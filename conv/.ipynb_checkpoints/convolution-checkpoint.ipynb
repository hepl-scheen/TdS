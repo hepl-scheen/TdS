{
 "cells": [
  {
   "cell_type": "markdown",
   "metadata": {},
   "source": [
    "# Produit de convolution"
   ]
  },
  {
   "cell_type": "code",
   "execution_count": 8,
   "metadata": {
    "tags": [
     "remove-cell"
    ]
   },
   "outputs": [],
   "source": [
    "from myst_nb import glue\n",
    "import math\n",
    "import numpy as np\n",
    "import matplotlib.pyplot as plt\n",
    "from scipy.io import wavfile\n",
    "from scipy.signal import butter, lfilter\n",
    "from IPython.display import Audio"
   ]
  },
  {
   "cell_type": "markdown",
   "metadata": {},
   "source": [
    "## Définition\n",
    "\n",
    "Le produit de convolution est une opération mathématique entre deux signaux qui calcule un troisième signal. Il est noté $*$. Il décrit l'effet que produit un instrument de mesure ou un système sur une mesure, caractérisé par sa _réponse impulsionnelle_ $h$.\n",
    "\n",
    "```{figure} convolution.svg\n",
    "---\n",
    "width: 400px\n",
    "name: F:convolution:intro\n",
    "---\n",
    "Illustration du produit de convolution.\n",
    "```\n",
    "\n",
    "Le produit de convolution entre deux signaux $x$ et $h$ produit un troisième signal $y$.\n",
    "\n",
    "::::{grid} 1 1 1 1\n",
    ":gutter: 3\n",
    "\n",
    ":::{grid-item-card} Signaux à temps continu\n",
    "$$y(t) = (x*h)(t) = \\int_{-\\infty}^{+\\infty} x(\\tau) h(t-\\tau) d\\tau$$\n",
    ":::\n",
    "\n",
    ":::{grid-item-card} Signaux à temps discret\n",
    "$$y[n] = (x*h)[n] = \\sum_{m=-\\infty}^{+\\infty} x[m] h[n-m]$$\n",
    ":::\n",
    "\n",
    "::::"
   ]
  },
  {
   "cell_type": "markdown",
   "metadata": {
    "tags": []
   },
   "source": [
    "## Exemples\n",
    "\n",
    "L'animation ci-dessous illustre l'effet du produit de convolution entre les signaux\n",
    "<font color=\"#0060A9\">$x$</font> et <font color=\"#BE1600\">$h$</font> pour donner le signal <font color=\"#00A90B\">$y(t)$</font>.\n",
    "\n",
    " <a href=\"https://vincmazet.github.io/spetsi/conv1c.html\" target=\"_blank\">Exemple1</a> \n",
    "\n",
    "Dans cette deuxième animation (ci-dessous), vous pouvez dessiner les signaux à temps discret $x$ et $h$ pour visualiser le résultat sur $y$.\n",
    "\n",
    "<a href=\"https://vincmazet.github.io/spetsi/convolution.html\" target=\"_blank\">Exemple2</a> \n"
   ]
  },
  {
   "cell_type": "markdown",
   "metadata": {},
   "source": [
    "## Propriétés\n",
    "\n",
    "Soient $f$, $g$ et $h$ des signaux (à temps continu ou discret), et $a$ une constante. Le produit de convolution vérifie les propriétés suivantes.\n",
    "\n",
    "::::{grid} 1 1 1 2\n",
    ":gutter: 3\n",
    "\n",
    ":::{grid-item-card} Commutativité\n",
    "$$f*g = g*f$$\n",
    ":::\n",
    "\n",
    ":::{grid-item-card} Associativité\n",
    "$$f*(g*h) = (f*g)*h$$\n",
    ":::\n",
    "\n",
    ":::{grid-item-card} Distributivité\n",
    "$$f*(g+h) = f*g + f*h$$\n",
    ":::\n",
    "\n",
    ":::{grid-item-card} Identité\n",
    "$$f*\\delta = f$$\n",
    ":::\n",
    "\n",
    "::::"
   ]
  }
 ],
 "metadata": {
  "kernelspec": {
   "display_name": "Python 3 (ipykernel)",
   "language": "python",
   "name": "python3"
  },
  "language_info": {
   "codemirror_mode": {
    "name": "ipython",
    "version": 3
   },
   "file_extension": ".py",
   "mimetype": "text/x-python",
   "name": "python",
   "nbconvert_exporter": "python",
   "pygments_lexer": "ipython3",
   "version": "3.11.4"
  },
  "widgets": {
   "application/vnd.jupyter.widget-state+json": {
    "state": {},
    "version_major": 2,
    "version_minor": 0
   }
  }
 },
 "nbformat": 4,
 "nbformat_minor": 4
}
