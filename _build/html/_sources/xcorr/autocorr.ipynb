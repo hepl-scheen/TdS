{
 "cells": [
  {
   "cell_type": "markdown",
   "id": "18316f29",
   "metadata": {},
   "source": [
    "# Autocorrélation\n",
    "\n",
    "L'autocorrélation est l'intercorrélation d'un signal avec lui-même.\n",
    "\n",
    "::::{grid} 1 1 1 1\n",
    ":gutter: 3\n",
    "\n",
    ":::{grid-item-card} Signaux à temps continu\n",
    "$$R_{x}(\\tau) = \\int_{-\\infty}^{+\\infty} x(t+\\tau) x(t) dt$$\n",
    ":::\n",
    "\n",
    ":::{grid-item-card} Signaux à temps discret\n",
    "$$R_{x}[m] = \\sum_{n=-\\infty}^{+\\infty} x[n+m] x[n]$$\n",
    ":::\n",
    "\n",
    "::::\n",
    "\n",
    "L'autocorrélation possède quelques propriétés remarquables :\n",
    "* l'autocorrélation est symétrique car $R_{x}(\\tau) = R_{x}(-\\tau)$\n",
    "  (pour le vérifier, reprendre la définition en effectuant un changement de variable)\n",
    "* l'autocorrélation en 0 est la valeur maximale de l'autocorrélation\n",
    "  (puisque c'est pour un décalage nul $\\tau=0$ que le signal se ressemble le plus à lui-même).\n",
    "  C'est par ailleurs l'énergie du signal :\n",
    "\n",
    "  $$\n",
    "    R_{x}(0) = \\int_{-\\infty}^{+\\infty} x(t)^2 dt.\n",
    "  $$\n",
    "  \n",
    "* L'autocorrélation d'un signal périodique de période $T$ est également périodique de période $T$ (puisqu'en décalant le signal de $T$, il ressemble à nouveau avec lui-même)"
   ]
  },
  {
   "cell_type": "code",
   "execution_count": null,
   "id": "3d64dda3",
   "metadata": {},
   "outputs": [],
   "source": []
  }
 ],
 "metadata": {
  "kernelspec": {
   "display_name": "Python 3 (ipykernel)",
   "language": "python",
   "name": "python3"
  },
  "language_info": {
   "codemirror_mode": {
    "name": "ipython",
    "version": 3
   },
   "file_extension": ".py",
   "mimetype": "text/x-python",
   "name": "python",
   "nbconvert_exporter": "python",
   "pygments_lexer": "ipython3",
   "version": "3.11.4"
  }
 },
 "nbformat": 4,
 "nbformat_minor": 5
}
