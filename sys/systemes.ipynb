{
 "cells": [
  {
   "cell_type": "markdown",
   "metadata": {},
   "source": [
    "# Les Systèmes"
   ]
  },
  {
   "cell_type": "markdown",
   "metadata": {},
   "source": [
    "Un système est un bloc mathématique qui permet de transformer un signal quelconque. Le système de base a une entrée et une sortie. Le système peut représenter un phénomène physique, comme un thermomètre, ou l’entrée est un signal électrique et la sortie est la chaleur. Un système peut aussi représenter un réseau de transmission de données, ou un filtre numérique dans un ordinateur. Une représentation générale est donnée a la figure ci-dessous : \n",
    "\n",
    "```{figure} sys.png\n",
    "---\n",
    "width: 400px\n",
    "name: F:convolution:sys\n",
    "---\n",
    "Diagramme général d’un système\n",
    "```\n",
    "\n",
    "Pour les systèmes à temps continu, les équations qui relient la sortie à l’entrée sont typiquement des équations différentielles. Les systèmes étudies ici sont tous des systèmes linéaires. Ils possèdent quelques caractéristiques très importantes.\n",
    "\n",
    "## Linéarité\n",
    "\n",
    "Un système est dit _linéaire_ s’il possède deux caractéristiques : homogénéité, et additivité. Une troisième propriété, l’invariance dans le temps, n’est pas strictement nécessaire pour la linéarité, mais est une composante importante dans la plupart des techniques d’analyse de signaux.\n",
    "\n",
    "L’homogénéité, ou proportionnalité, veut dire qu’une variation dans l’amplitude au signal d’entrée produit une même variation d’amplitude à la sortie. C’est-à-dire, si on applique un signal $x(t)$ a un système et qu’on obtient une sortie $y(t)$, alors une entrée $k x(t)$ produira une sortie $k y(t)$, comme a la figure ci-dessous :\n",
    "\n",
    "```{figure} sys_homo.png\n",
    "---\n",
    "width: 400px\n",
    "name: F:convolution:sys_homo\n",
    "---\n",
    "Exemple de système homogène\n",
    "```\n",
    "\n",
    "Une résistance est un bon exemple de système homogène et non homogène. Si on applique une tension $v(t)$ aux bornes d’une résistance, et que la sortie est $i(t)$, alors si on\n",
    "applique une tension $2 v(t)$, on aura un courant 2 fois plus grand ($2 i(t)$). Cependant, si la sortie est la puissance consommée dans la résistance, ceci n’est pas un système linéaire : si on double la tension, la puissance consommée est 4 fois plus grande ($p = \\frac{v^2}{R}).\n",
    "\n",
    "L’additivité veut dire que si on applique 2 (ou plus) signaux à l’entrée, la sortie est la somme individuelle de leur réponses. Ex : soit un système où on applique une entrée $x_1(t)$ qui produit une sortie $y_1(t)*, et une entrée $x_2(t)$ produit une sortie $y_2(t)$. Si le système possède l’additivité, si on applique les deux entrées en même temps, $x_1(t)+ x_2(t)$, la sortie sera $y_1(t) + y_2(t)$.\n",
    "\n",
    "```{figure} sys_add.png\n",
    "---\n",
    "width: 400px\n",
    "name: F:convolution:sys_add\n",
    "---\n",
    "Exemple d’additivité des systèmes linéaires.\n",
    "```\n",
    "\n",
    "La troisième propriété, l’invariance dans le temps, veut dire que la sortie d’un système ne change pas si on applique la même entrée à un certain temps plus tard. Mathématiquement, si on applique un signal $x(t)$ a un système et qu’on obtient une sortie $y(t)$, alors la même entrée appliquée à un autre temps, $x(t+t0)$, produira la même sortie avec le même décalage dans le temps, $y(t + t0)$.\n",
    "\n",
    "## fidélité sinusoïdale\n",
    "\n",
    "La fidélité sinusoïdale est une propriété importante : si on applique une entrée sinusoïdale a un système linéaire, la sortie doit être un sinusoïde de même fréquence. Les sinusoïdes sont les seules ondes a avoir cette propriété. Bien que la sortie est un sinusoïde de même fréquence, l’amplitude et la phase peuvent être différents (comme pour un filtre).\n",
    "\n",
    "## Commutativité\n",
    "\n",
    "Soit deux systèmes linéaires $A$ et $B$. On met les deux systèmes en cascade, $A$ suivit de $B$. Si $x(t)$ est l’entrée, la sortie des deux systèmes est `\n",
    "y(t). Avec la commutativité, on peut inverser l’ordre : mettre $B$ en premier, suivi de $A$. Pour la même entrée $x(t)$, on obtient la même sortie $y(t)$.\n",
    "\n",
    "```{figure} sys_com.png\n",
    "---\n",
    "width: 400px\n",
    "name: F:convolution:sys_com\n",
    "---\n",
    "Exemple de commutativité des systèmes linéaires\n",
    "```\n",
    "\n",
    "## Superposition\n",
    "\n",
    "La superposition est une technique clé de l’analyse de signaux : on peut décomposer une entrée en ses composantes, passer chaque composante dans le système, puis obtenir la réponse totale en faisant la somme (la superposition) des composantes. Le signal ainsi obtenu est identique a celui obtenue si on avait fait passer l’entrée au complet directement dans le système. La superposition est utilisée pour décomposer une entrée en signaux plus simples, puis appliquer ces signaux simples au système. On retrouve la réponse voulue en faisant la somme des sorties obtenues.\n",
    "\n",
    "```{figure} sys_super.png\n",
    "---\n",
    "width: 400px\n",
    "name: F:convolution:sys_super\n",
    "---\n",
    "Exemple de superposition des systèmes linéaires\n",
    "```\n"
   ]
  },
  {
   "cell_type": "markdown",
   "metadata": {},
   "source": []
  }
 ],
 "metadata": {
  "kernelspec": {
   "display_name": "Python 3.11.4 64-bit",
   "language": "python",
   "name": "python3"
  },
  "language_info": {
   "codemirror_mode": {
    "name": "ipython",
    "version": 3
   },
   "file_extension": ".py",
   "mimetype": "text/x-python",
   "name": "python",
   "nbconvert_exporter": "python",
   "pygments_lexer": "ipython3",
   "version": "3.11.4"
  },
  "vscode": {
   "interpreter": {
    "hash": "b0fa6594d8f4cbf19f97940f81e996739fb7646882a419484c72d19e05852a7e"
   }
  },
  "widgets": {
   "application/vnd.jupyter.widget-state+json": {
    "state": {},
    "version_major": 2,
    "version_minor": 0
   }
  }
 },
 "nbformat": 4,
 "nbformat_minor": 4
}
