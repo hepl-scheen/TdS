{
 "cells": [
  {
   "cell_type": "markdown",
   "id": "1f8da9d6",
   "metadata": {},
   "source": [
    "# Fenêtrage\n",
    "\n",
    "Lorsqu’on travaille avec des signaux de durée limitée, le spectre est déformé : c’est l’effet de fenêtre. Pour observer cet effet, calculons le spectre\n",
    "d’un signal z(t) sinusoïdal de fréquence fo et de durée T :\n",
    "\n",
    "```{figure} fenetrage.png\n",
    "---\n",
    "width: 500px\n",
    "name: F:convolution:fenetrage\n",
    "---\n",
    "Construction du signal $z(t)$, sinusoïde sur support temporel borné.\n",
    "```\n",
    "\n",
    "* le signal z(t) est le produit d’une fonction sinusoïdale x(t) et d’une fonction fenêtre f(t)\n",
    "* on dit qu’on observe le signal à travers une fenêtre temporelle rectangulaire de largeur T\n",
    "* la transformée de Fourier de z(t) se calcule aisément :\n",
    "\n",
    "Si on calcule la transformée de Fourier de $z(t)$, on obtient (pour les fréquences positives):\n",
    "\n",
    "$$ Z(f)= E \\frac{T}{2} \\left[ \\frac{\\sin{\\pi (f_0 - f) T} }{\\pi (f_0 - f) T} \\right] = E \\frac{T}{2} sinc(\\pi (f_0 - f) T) $$\n",
    "\n",
    "```{figure} fen_spectre.png\n",
    "---\n",
    "width: 500px\n",
    "name: F:convolution:fen_spectre\n",
    "---\n",
    "Spectre du signal $z(t)$\n",
    "```\n",
    "\n",
    "Observations :\n",
    "\n",
    "* à cause de la durée limitée T, la raie à la fréquence fo est devenue un lobe de largeur $2/T$, associé à des lobes secondaires\n",
    "* plus la duré d’observation T est longue, plus le lobe principal s’affine et se rapproche d’une raie\n",
    "* l’effet de fenêtre se manifeste dans tous les analyseurs numériques car ils calculent tous le spectre à partir d’une portion de signal limitée dans le temps\n",
    "\n",
    "Cela revient à dire que la multiplication dans le domaine temporel d'une sinusoïde et d'une porte, revient à faire une convolution dans le domaine fréquentielle, de la transformée de Fourier de la sinusoïde (impulsion de Dirac) et de la transformée de Fourier de la fonction porte (sinus cardinal).\n",
    "\n",
    "## Les fenêtres de pondération\n",
    "\n",
    "Une raie est transformée en lobe à cause de la durée d’observation limitée à travers la fenêtre temporelle T. En choisissant d’autres types de fenêtres, c’est-à-dire en pondérant les échantillons avant le calcul de la TF, on peut donc agir sur la forme du spectre et en particulier diminuer l’amplitude des lobes secondaires (très intéressant pour l'observation, mais également pour la bande occupée par le spectre).\n",
    "\n",
    "```{figure} fen_pond.png\n",
    "---\n",
    "width: 800px\n",
    "name: F:convolution:fen_pond\n",
    "---\n",
    "Quelques exemples de fenêtres de pondération\n",
    "```"
   ]
  }
 ],
 "metadata": {
  "kernelspec": {
   "display_name": "Python 3.11.4 64-bit",
   "language": "python",
   "name": "python3"
  },
  "language_info": {
   "codemirror_mode": {
    "name": "ipython",
    "version": 3
   },
   "file_extension": ".py",
   "mimetype": "text/x-python",
   "name": "python",
   "nbconvert_exporter": "python",
   "pygments_lexer": "ipython3",
   "version": "3.11.4"
  },
  "vscode": {
   "interpreter": {
    "hash": "b0fa6594d8f4cbf19f97940f81e996739fb7646882a419484c72d19e05852a7e"
   }
  }
 },
 "nbformat": 4,
 "nbformat_minor": 5
}
